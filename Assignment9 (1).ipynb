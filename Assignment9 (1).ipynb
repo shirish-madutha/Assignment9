{
 "cells": [
  {
   "cell_type": "code",
   "execution_count": 13,
   "id": "c9c0e692-7100-42aa-a3c2-23256a816a8d",
   "metadata": {},
   "outputs": [
    {
     "name": "stdout",
     "output_type": "stream",
     "text": [
      "30\n",
      "78.5\n"
     ]
    }
   ],
   "source": [
    "\"\"\" Q1. What is Abstraction in OOps? Explain with an example. \"\"\"\n",
    "\n",
    "# ans\n",
    "\"\"\" Abstraction is a fundamental concept in Object-Oriented Programming (OOP) that allows us to hide \n",
    "complex implementation details and expose only the essential features of an object or system.\n",
    "In Python, abstraction can be achieved using abstract classes and interfaces.\n",
    "\n",
    "An abstract class is a class that cannot be instantiated on its own but can be inherited by other classes.\n",
    "It can have abstract methods, which are methods without any implementation. \n",
    "These methods must be implemented by any subclass that inherits from the abstract class. \"\"\"\n",
    "\n",
    "# example\n",
    "class Shape:\n",
    "    \n",
    "    def area(self):\n",
    "        pass\n",
    "    \n",
    "class Rectangle(Shape):\n",
    "    \n",
    "    def __init__(self, length, breadth):\n",
    "        self.length=length\n",
    "        self.breadth=breadth\n",
    "        \n",
    "    def area(self):\n",
    "        return self.length*self.breadth\n",
    "    \n",
    "class Circle(Shape):\n",
    "\n",
    "    def __init__(self, radius):\n",
    "        self.radius=radius\n",
    "        \n",
    "    def area(self):\n",
    "        return 3.14*self.radius**2\n",
    "    \n",
    "shapes=[Rectangle(5,6),Circle(5)]\n",
    "for i in shapes:\n",
    "    print(i.area())"
   ]
  },
  {
   "cell_type": "code",
   "execution_count": 14,
   "id": "69971986-c1dc-4ec4-b155-73c6e0f1b9c3",
   "metadata": {},
   "outputs": [
    {
     "name": "stdout",
     "output_type": "stream",
     "text": [
      "30\n",
      "78.5\n"
     ]
    }
   ],
   "source": [
    "\"\"\" Q2. Differentiate between Abstraction and Encapsulation. Explain with an example. \"\"\"\n",
    "\n",
    "# ans\n",
    "\"\"\" Abstraction and encapsulation are both important concepts in Object-Oriented Programming (OOP), but they serve different purposes.\n",
    "\n",
    "Abstraction is the process of hiding complex implementation details and exposing only the essential features of an object or system. \n",
    "It is a way to manage complexity by breaking a system down into smaller, more manageable parts. Abstraction can be achieved using abstract classes and interfaces.\n",
    "\n",
    "Encapsulation, on the other hand, is the process of hiding the internal details of an object and exposing only the necessary information to the outside world. \n",
    "It is a way to protect an object's internal state and behavior from being modified directly by external code. \n",
    "Encapsulation can be achieved by using access modifiers such as private, protected, and public. \"\"\"\n",
    "\n",
    "# Abstraction example\n",
    "class Shape:\n",
    "    \n",
    "    def area(self):\n",
    "        pass\n",
    "    \n",
    "class Rectangle(Shape):\n",
    "    \n",
    "    def __init__(self, length, breadth):\n",
    "        self.length=length\n",
    "        self.breadth=breadth\n",
    "        \n",
    "    def area(self):\n",
    "        return self.length*self.breadth\n",
    "    \n",
    "class Circle(Shape):\n",
    "\n",
    "    def __init__(self, radius):\n",
    "        self.radius=radius\n",
    "        \n",
    "    def area(self):\n",
    "        return 3.14*self.radius**2\n",
    "    \n",
    "shapes=[Rectangle(5,6),Circle(5)]\n",
    "for i in shapes:\n",
    "    print(i.area())"
   ]
  },
  {
   "cell_type": "code",
   "execution_count": 15,
   "id": "170503fa-4d00-4cfa-85df-9559e02bd2f6",
   "metadata": {},
   "outputs": [
    {
     "name": "stdout",
     "output_type": "stream",
     "text": [
      "rushi\n",
      "22\n"
     ]
    }
   ],
   "source": [
    "# Encapsulation example\n",
    "class Person:\n",
    "    def __init__(self, name, age):\n",
    "        self.__name = name  # private attribute\n",
    "        self.__age = age  # private attribute\n",
    "\n",
    "    def get_name(self):\n",
    "        return self.__name\n",
    "\n",
    "    def set_name(self, name):\n",
    "        self.__name = name\n",
    "\n",
    "    def get_age(self):\n",
    "        return self.__age\n",
    "\n",
    "    def set_age(self, age):\n",
    "        self.__age = age\n",
    "\n",
    "shiry=Person(\"shiri\",21)\n",
    "shiry.set_name(\"rushi\")\n",
    "print(shiry.get_name())\n",
    "shiry.set_age(22)\n",
    "print(shiry.get_age())"
   ]
  },
  {
   "cell_type": "code",
   "execution_count": null,
   "id": "a03ab441-bce6-419e-90eb-2f9ac94687e1",
   "metadata": {},
   "outputs": [],
   "source": [
    "\"\"\" Q3. What is abc module in python? Why is it used? \"\"\"\n",
    "\n",
    "# ans\n",
    "\"\"\" The abc module in Python stands for \"Abstract Base Classes\". \n",
    "It provides infrastructure for defining abstract base classes (ABCs) in Python.\n",
    "ABCs are a way of specifying an interface that other classes must implement. \n",
    "ABCs cannot be instantiated directly and are designed to be subclassed.\n",
    "\n",
    "The abc module is used for creating abstract base classes and interfaces in Python.\n",
    "It provides a way to define a common interface for a set of related classes.\n",
    "This is useful when you want to ensure that all classes that implement a particular interface\n",
    "have the same set of methods and attributes. \"\"\""
   ]
  },
  {
   "cell_type": "code",
   "execution_count": null,
   "id": "e3e72e57-4751-4c20-b897-115534f2b79b",
   "metadata": {},
   "outputs": [],
   "source": [
    "\"\"\" Q4. How can we achieve data abstraction? \"\"\"\n",
    "\n",
    "# ans\n",
    "\"\"\" Data abstraction is the process of hiding implementation details and providing a simplified interface to the user. \n",
    "In Python, we can achieve data abstraction in several ways, including:\n",
    "\n",
    "1.Using classes and objects: We can use classes and objects to represent complex data structures and hide implementation details from the user.\n",
    "By defining methods for accessing and modifying data within a class, we can provide a simplified interface that abstracts away the underlying implementation details. \n",
    "\n",
    "2.Using modules: We can use modules to group related data and functions together and hide implementation details from the user.\n",
    "By defining a well-structured module interface, we can provide a simplified interface that abstracts away the underlying implementation details. \"\"\""
   ]
  },
  {
   "cell_type": "code",
   "execution_count": null,
   "id": "4695886f-5bc9-409f-8c68-1a5865a0bc6b",
   "metadata": {},
   "outputs": [],
   "source": [
    "\"\"\" Q5. Can we create an instance of an abstract class? Explain your answer. \"\"\"\n",
    "\n",
    "# ans\n",
    "\"\"\" No, we cannot create an instance of an abstract class in Python. An abstract class is a class\n",
    "that cannot be instantiated directly, as it contains one or more abstract methods that are not implemented in the abstract class itself.\n",
    "An abstract method is a method that has a declaration but no implementation, and it is meant to be overridden by subclasses.\n",
    "\n",
    "To create an instance of a class, we need to define a concrete subclass of the abstract class and implement all the abstract methods in it.\n",
    "Only then can we create an object of the concrete subclass and use it to access the methods and attributes defined in the abstract class. \"\"\""
   ]
  }
 ],
 "metadata": {
  "kernelspec": {
   "display_name": "Python 3 (ipykernel)",
   "language": "python",
   "name": "python3"
  },
  "language_info": {
   "codemirror_mode": {
    "name": "ipython",
    "version": 3
   },
   "file_extension": ".py",
   "mimetype": "text/x-python",
   "name": "python",
   "nbconvert_exporter": "python",
   "pygments_lexer": "ipython3",
   "version": "3.10.8"
  }
 },
 "nbformat": 4,
 "nbformat_minor": 5
}
